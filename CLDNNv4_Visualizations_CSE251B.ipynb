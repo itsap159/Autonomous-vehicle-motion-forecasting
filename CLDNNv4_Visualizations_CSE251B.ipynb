{
  "nbformat": 4,
  "nbformat_minor": 0,
  "metadata": {
    "colab": {
      "provenance": [],
      "machine_shape": "hm",
      "gpuType": "T4"
    },
    "kernelspec": {
      "name": "python3",
      "display_name": "Python 3"
    },
    "language_info": {
      "name": "python"
    },
    "accelerator": "GPU"
  },
  "cells": [
    {
      "cell_type": "code",
      "execution_count": null,
      "metadata": {
        "colab": {
          "base_uri": "https://localhost:8080/"
        },
        "id": "pbwDwLJcDQ62",
        "outputId": "fcfdb5e0-8f46-4656-dad1-55f0094f404b"
      },
      "outputs": [
        {
          "output_type": "stream",
          "name": "stdout",
          "text": [
            "cuda:0\n"
          ]
        }
      ],
      "source": [
        "import torch\n",
        "device = torch.device(\"cuda:0\" if torch.cuda.is_available() else \"cpu\")\n",
        "print(device)"
      ]
    },
    {
      "cell_type": "code",
      "source": [
        "import matplotlib.pyplot as plt\n",
        "import numpy as np\n",
        "import pickle\n",
        "import os\n",
        "import os.path\n",
        "\n",
        "import scipy,scipy.spatial\n",
        "import matplotlib\n",
        "from google.colab import drive\n",
        "drive.mount('/content/drive')"
      ],
      "metadata": {
        "colab": {
          "base_uri": "https://localhost:8080/"
        },
        "id": "rxf4GeeJa9BW",
        "outputId": "4168beff-9b01-43af-ef87-3a438ae2431f"
      },
      "execution_count": null,
      "outputs": [
        {
          "output_type": "stream",
          "name": "stdout",
          "text": [
            "Mounted at /content/drive\n"
          ]
        }
      ]
    },
    {
      "cell_type": "code",
      "source": [
        "!cp /content/ucsd-cse-251b-class-competition.zip ./drive/MyDrive/CSE251B/"
      ],
      "metadata": {
        "id": "v96qsZ6MFsxD"
      },
      "execution_count": null,
      "outputs": []
    },
    {
      "cell_type": "code",
      "source": [
        "drive.flush_and_unmount()"
      ],
      "metadata": {
        "id": "o3iWWlcldvw2"
      },
      "execution_count": null,
      "outputs": []
    },
    {
      "cell_type": "code",
      "source": [
        "!cp ./weights.w ./drive/MyDrive/CSE251B/"
      ],
      "metadata": {
        "id": "pYWO232sF86J"
      },
      "execution_count": null,
      "outputs": []
    },
    {
      "cell_type": "code",
      "source": [],
      "metadata": {
        "id": "rbccSUWkbLpH"
      },
      "execution_count": null,
      "outputs": []
    },
    {
      "cell_type": "code",
      "source": [
        "!cp ./drive/MyDrive/CSE\\ 251B/ucsd-cse-251b-class-competition.zip ./\n",
        "!unzip ucsd-cse-251b-class-competition.zip"
      ],
      "metadata": {
        "id": "1gvMSU1TagG0"
      },
      "execution_count": null,
      "outputs": []
    },
    {
      "cell_type": "code",
      "source": [
        "!cp ./drive/MyDrive/CSE\\ 251B/weights_CNN4.w ./"
      ],
      "metadata": {
        "id": "lpI3S9GkalGm"
      },
      "execution_count": null,
      "outputs": []
    },
    {
      "cell_type": "markdown",
      "source": [
        "### model"
      ],
      "metadata": {
        "id": "b1OPFaYKFrIt"
      }
    },
    {
      "cell_type": "code",
      "source": [],
      "metadata": {
        "colab": {
          "base_uri": "https://localhost:8080/"
        },
        "id": "3wWF2LnzEfU-",
        "outputId": "9186dc3d-0135-4297-db4c-19de51341f61"
      },
      "execution_count": null,
      "outputs": [
        {
          "output_type": "stream",
          "name": "stdout",
          "text": [
            "Drive already mounted at /content/drive; to attempt to forcibly remount, call drive.mount(\"/content/drive\", force_remount=True).\n"
          ]
        }
      ]
    },
    {
      "cell_type": "code",
      "source": [
        "import torch\n",
        "from torch.utils.data import Dataset, DataLoader\n",
        "import os, os.path\n",
        "import numpy\n",
        "import pickle\n",
        "from glob import glob\n",
        "\n",
        "\"\"\"\n",
        " This notebook uses train as an example.\n",
        " Change to the val folder for evaluation\n",
        "\"\"\"\n",
        "\n",
        "new_path = \"./ucsd-cse-251b-class-competition/train/train\"\n",
        "\n",
        "# number of sequences in each dataset\n",
        "# train:205942  val:3200 test: 36272\n",
        "# sequences sampled at 10HZ rate\n",
        "\n",
        "class ArgoverseDataset(Dataset):\n",
        "    \"\"\"Dataset class for Argoverse\"\"\"\n",
        "    def __init__(self, data_path: str, transform=None):\n",
        "        super(ArgoverseDataset, self).__init__()\n",
        "        self.data_path = data_path\n",
        "        self.transform = transform\n",
        "\n",
        "        self.pkl_list = glob(os.path.join(self.data_path, '*'))\n",
        "        self.pkl_list.sort()\n",
        "\n",
        "    def __len__(self):\n",
        "        return len(self.pkl_list)\n",
        "\n",
        "    def __getitem__(self, idx):\n",
        "\n",
        "        pkl_path = self.pkl_list[idx]\n",
        "        with open(pkl_path, 'rb') as f:\n",
        "            data = pickle.load(f)\n",
        "\n",
        "        if self.transform:\n",
        "            data = self.transform(data)\n",
        "\n",
        "        return data\n",
        "\n",
        "\n",
        "# intialize a dataset\n",
        "data  = ArgoverseDataset(data_path=new_path)\n",
        "\n"
      ],
      "metadata": {
        "id": "tdGIP_rxEqU4"
      },
      "execution_count": null,
      "outputs": []
    },
    {
      "cell_type": "code",
      "source": [
        "def my_collate(batch):\n",
        "    \"\"\" collate lists of samples into batches, create [ batch_sz x agent_sz x seq_len x feature] \"\"\"\n",
        "    inp = [numpy.dstack([scene['p_in'], scene['v_in']]) for scene in batch]\n",
        "    out = [numpy.dstack([scene['p_out'], scene['v_out']]) for scene in batch]\n",
        "\n",
        "    inp = torch.LongTensor(inp).to(device)\n",
        "    out = torch.LongTensor(out).to(device)\n",
        "    return [inp, out]"
      ],
      "metadata": {
        "id": "nxteKOYnMPRg"
      },
      "execution_count": null,
      "outputs": []
    },
    {
      "cell_type": "code",
      "source": [
        "batch_sz = 128\n",
        "\n",
        "def my_collate(batch):\n",
        "    \"\"\" collate lists of samples into batches, create [ batch_sz x agent_sz x seq_len x feature] \"\"\"\n",
        "    valid_x = []\n",
        "    valid_y = []\n",
        "    for scene in batch:\n",
        "\n",
        "        mask = scene['car_mask']\n",
        "        inp = numpy.dstack([scene['p_in'], scene['v_in']])\n",
        "        out = numpy.dstack([scene['p_out'], scene['v_out']])\n",
        "        #print(out.shape)\n",
        "        for j in range(len(mask)):\n",
        "          if mask[j][0]==1:\n",
        "            valid_x.append(inp[j])\n",
        "            valid_y.append(out[j])\n",
        "        '''\n",
        "        inp = numpy.stack( inp, axis=0 )\n",
        "        out = [numpy.dstack([scene['p_out'], scene['v_out']]) for scene in batch]\n",
        "        out = numpy.stack( out, axis=0 )\n",
        "        '''\n",
        "    inp = torch.LongTensor(valid_x).to(device)\n",
        "    out = torch.LongTensor(valid_y).to(device)\n",
        "    return [inp, out]\n",
        "\n",
        "#train_loader = DataLoader(val_dataset,batch_size=batch_sz, shuffle = False, collate_fn=my_collate, num_workers=0)\n",
        "\n",
        "#split_number = int(len(data)*0.8)\n",
        "import random\n",
        "#train_idx = [i for i in range(split_number)]\n",
        "train_idx = random.sample([i for i in range(0,len(data))],int(0.8*len(data)))\n",
        "test_idx = list(set([i for i in range(0,len(data))])-set(train_idx))\n",
        "#test_idx = [i+split_number for i in range(len(data)-split_number)]\n",
        "train_sub = torch.utils.data.Subset(data, train_idx)\n",
        "test_sub = torch.utils.data.Subset(data, test_idx)\n",
        "\n",
        "train_dataset = DataLoader(train_sub,batch_size=batch_sz, shuffle = False, collate_fn=my_collate, num_workers=0)\n",
        "test_dataset = DataLoader(test_sub,batch_size=batch_sz, shuffle = False, collate_fn=my_collate, num_workers=0)"
      ],
      "metadata": {
        "id": "5FrhE5aYFKf9"
      },
      "execution_count": null,
      "outputs": []
    },
    {
      "cell_type": "code",
      "source": [],
      "metadata": {
        "id": "31WHTJQRKFTS"
      },
      "execution_count": null,
      "outputs": []
    },
    {
      "cell_type": "code",
      "source": [
        "print(len(train_dataset))\n",
        "print(len(test_dataset))"
      ],
      "metadata": {
        "colab": {
          "base_uri": "https://localhost:8080/"
        },
        "id": "vMoXWGWAFOHb",
        "outputId": "6ed0391f-a348-4bcd-e63d-4e1e01f9cc41"
      },
      "execution_count": null,
      "outputs": [
        {
          "output_type": "stream",
          "name": "stdout",
          "text": [
            "1288\n",
            "322\n"
          ]
        }
      ]
    },
    {
      "cell_type": "code",
      "source": [
        "import numpy as np\n",
        "import matplotlib.pyplot as plt\n",
        "import pandas as pd\n",
        "import torch\n",
        "import torch.nn as nn\n",
        "from torch.autograd import Variable\n",
        "from sklearn.preprocessing import MinMaxScaler"
      ],
      "metadata": {
        "id": "IMcD1WYoHjk0"
      },
      "execution_count": null,
      "outputs": []
    },
    {
      "cell_type": "markdown",
      "source": [
        "## v4: 30 frames"
      ],
      "metadata": {
        "id": "ifb7bpnSi8AL"
      }
    },
    {
      "cell_type": "code",
      "source": [
        "import matplotlib.pyplot as plt\n",
        "import random\n",
        "\n",
        "class CNNClassifier(nn.Module):\n",
        "    def __init__(self):\n",
        "        super(CNNClassifier, self).__init__()\n",
        "        self.conv1_px = nn.Conv1d(1, 16, 5,padding=(0,2),padding_mode='replicate')\n",
        "        self.conv1_py = nn.Conv1d(1, 16, 5,padding=(0,2),padding_mode='replicate')\n",
        "        self.conv1_vx = nn.Conv1d(1, 16, 5,padding=(0,2),padding_mode='replicate')\n",
        "        self.conv1_vy = nn.Conv1d(1, 16, 5,padding=(0,2),padding_mode='replicate')\n",
        "        '''\n",
        "        self.conv2_px = nn.Conv1d(16, 32, 5,padding=(0,2),padding_mode='replicate')\n",
        "        self.conv2_py = nn.Conv1d(16, 32, 5,padding=(0,2),padding_mode='replicate')\n",
        "        self.conv2_vx = nn.Conv1d(16, 32, 5,padding=(0,2),padding_mode='replicate')\n",
        "        self.conv2_vy = nn.Conv1d(16, 32, 5,padding=(0,2),padding_mode='replicate')\n",
        "\n",
        "        self.conv4_px = nn.Conv1d(32, 16, 5,padding=(0,2),padding_mode='replicate')\n",
        "        self.conv4_py = nn.Conv1d(32, 16, 5,padding=(0,2),padding_mode='replicate')\n",
        "        self.conv4_vx = nn.Conv1d(32, 16, 5,padding=(0,2),padding_mode='replicate')\n",
        "        self.conv4_vy = nn.Conv1d(32, 16, 5,padding=(0,2),padding_mode='replicate')\n",
        "        '''\n",
        "        self.conv3_px = nn.Conv1d(16, 1, 5,padding=(0,2),padding_mode='replicate')\n",
        "        self.conv3_py = nn.Conv1d(16, 1, 5,padding=(0,2),padding_mode='replicate')\n",
        "        self.conv3_vx = nn.Conv1d(16, 1, 5,padding=(0,2),padding_mode='replicate')\n",
        "        self.conv3_vy = nn.Conv1d(16, 1, 5,padding=(0,2),padding_mode='replicate')\n",
        "\n",
        "\n",
        "        self.conv1_pxy = nn.Conv1d(2, 16, 5,padding=(0,2),padding_mode='replicate')\n",
        "        self.conv1_vxy = nn.Conv1d(2, 16, 5,padding=(0,2),padding_mode='replicate')\n",
        "        self.conv1_pvx = nn.Conv1d(2, 16, 5,padding=(0,2),padding_mode='replicate')\n",
        "        self.conv1_pvy = nn.Conv1d(2, 16, 5,padding=(0,2),padding_mode='replicate')\n",
        "\n",
        "        self.conv2_pxy = nn.Conv1d(16, 1, 5,padding=(0,2),padding_mode='replicate')\n",
        "        self.conv2_vxy = nn.Conv1d(16, 1, 5,padding=(0,2),padding_mode='replicate')\n",
        "        self.conv2_pvx = nn.Conv1d(16, 1, 5,padding=(0,2),padding_mode='replicate')\n",
        "        self.conv2_pvy = nn.Conv1d(16, 1, 5,padding=(0,2),padding_mode='replicate')\n",
        "\n",
        "        #self.activation = nn.Sigmoid()\n",
        "        self.activation = nn.ReLU()\n",
        "\n",
        "        #self.avgpool = torch.nn.AvgPool2d((2,1))\n",
        "        #self.embedding = torch.nn.Embedding(num_embeddings = 65000, embedding_dim = 64)\n",
        "        #self.lstm = torch.nn.LSTM(input_size = 1, hidden_size = 6*30*4, num_layers = 1,\n",
        "        #                            batch_first = True, dropout = 0.2)\n",
        "        #self.decoder = torch.nn.Conv2d(60,60,1)\n",
        "        #self.decoder2 = torch.nn.AvgPool2d((9,1))\n",
        "        self.lstm = torch.nn.LSTM(input_size = 8, hidden_size = 512, num_layers = 2, batch_first = True, dropout = 0.2)\n",
        "\n",
        "        self.dense1 = nn.Linear(512, 256)\n",
        "        self.dense2 = nn.Linear(256, 120)\n",
        "        # as we have 5 classes\n",
        "        #self.linear = nn.Linear(8*2*512, 5) # last dimension\n",
        "    def forward(self, x):\n",
        "        px,py,vx,vy=x\n",
        "        px = self.activation(self.conv1_px(px))\n",
        "        py = self.activation(self.conv1_py(py))\n",
        "        vx = self.activation(self.conv1_vx(vx))\n",
        "        vy = self.activation(self.conv1_vy(vy))\n",
        "        '''\n",
        "        px = self.activation(self.conv2_px(px))\n",
        "        py = self.activation(self.conv2_py(py))\n",
        "        vx = self.activation(self.conv2_vx(vx))\n",
        "        vy = self.activation(self.conv2_vy(vy))\n",
        "\n",
        "        px = self.activation(self.conv4_px(px))\n",
        "        py = self.activation(self.conv4_py(py))\n",
        "        vx = self.activation(self.conv4_vx(vx))\n",
        "        vy = self.activation(self.conv4_vy(vy))\n",
        "        '''\n",
        "        px = self.activation(self.conv3_px(px))\n",
        "        py = self.activation(self.conv3_py(py))\n",
        "        vx = self.activation(self.conv3_vx(vx))\n",
        "        vy = self.activation(self.conv3_vy(vy))\n",
        "\n",
        "\n",
        "        pxy = torch.cat((px,py), 1)\n",
        "        vxy = torch.cat((vx,vy), 1)\n",
        "\n",
        "\n",
        "        pvx = torch.cat((px,vx), 1)\n",
        "        pvy = torch.cat((py,vy), 1)\n",
        "\n",
        "        pxy = self.activation(self.conv1_pxy(pxy))\n",
        "        vxy = self.activation(self.conv1_vxy(vxy))\n",
        "        pvx = self.activation(self.conv1_pvx(pvx))\n",
        "        pvy = self.activation(self.conv1_pvy(pvy))\n",
        "\n",
        "        pxy = self.activation(self.conv2_pxy(pxy))\n",
        "        vxy = self.activation(self.conv2_vxy(vxy))\n",
        "        pvx = self.activation(self.conv2_pvx(pvx))\n",
        "        pvy = self.activation(self.conv2_pvy(pvy))\n",
        "\n",
        "        x = torch.cat((px,py,vx,vy,pxy,vxy,pvx,pvy), 1)\n",
        "        x = torch.permute(x,(0,2,1))\n",
        "\n",
        "        x,_ = self.lstm(x)\n",
        "        # return-sequence = false\n",
        "        x = x[:, -1, :]\n",
        "\n",
        "        #x = torch.flatten(x,1)\n",
        "        #x = self.conv2(x)\n",
        "        #x = self.activation(self.dense1(x))\n",
        "        x = self.dense1(x)\n",
        "        x = self.dense2(x)\n",
        "        x = x.reshape((x.size()[0],30,4))\n",
        "\n",
        "        return x\n",
        "\n",
        "# create our model\n",
        "\n",
        "lstm = CNNClassifier()\n",
        "lstm.to(device)"
      ],
      "metadata": {
        "colab": {
          "base_uri": "https://localhost:8080/"
        },
        "id": "S_nhNJexi7q6",
        "outputId": "9682e4ea-abeb-4bc4-f2ef-c22f7e199ae0"
      },
      "execution_count": null,
      "outputs": [
        {
          "output_type": "execute_result",
          "data": {
            "text/plain": [
              "CNNClassifier(\n",
              "  (conv1_px): Conv1d(1, 16, kernel_size=(5,), stride=(1,), padding=(0, 2), padding_mode=replicate)\n",
              "  (conv1_py): Conv1d(1, 16, kernel_size=(5,), stride=(1,), padding=(0, 2), padding_mode=replicate)\n",
              "  (conv1_vx): Conv1d(1, 16, kernel_size=(5,), stride=(1,), padding=(0, 2), padding_mode=replicate)\n",
              "  (conv1_vy): Conv1d(1, 16, kernel_size=(5,), stride=(1,), padding=(0, 2), padding_mode=replicate)\n",
              "  (conv3_px): Conv1d(16, 1, kernel_size=(5,), stride=(1,), padding=(0, 2), padding_mode=replicate)\n",
              "  (conv3_py): Conv1d(16, 1, kernel_size=(5,), stride=(1,), padding=(0, 2), padding_mode=replicate)\n",
              "  (conv3_vx): Conv1d(16, 1, kernel_size=(5,), stride=(1,), padding=(0, 2), padding_mode=replicate)\n",
              "  (conv3_vy): Conv1d(16, 1, kernel_size=(5,), stride=(1,), padding=(0, 2), padding_mode=replicate)\n",
              "  (conv1_pxy): Conv1d(2, 16, kernel_size=(5,), stride=(1,), padding=(0, 2), padding_mode=replicate)\n",
              "  (conv1_vxy): Conv1d(2, 16, kernel_size=(5,), stride=(1,), padding=(0, 2), padding_mode=replicate)\n",
              "  (conv1_pvx): Conv1d(2, 16, kernel_size=(5,), stride=(1,), padding=(0, 2), padding_mode=replicate)\n",
              "  (conv1_pvy): Conv1d(2, 16, kernel_size=(5,), stride=(1,), padding=(0, 2), padding_mode=replicate)\n",
              "  (conv2_pxy): Conv1d(16, 1, kernel_size=(5,), stride=(1,), padding=(0, 2), padding_mode=replicate)\n",
              "  (conv2_vxy): Conv1d(16, 1, kernel_size=(5,), stride=(1,), padding=(0, 2), padding_mode=replicate)\n",
              "  (conv2_pvx): Conv1d(16, 1, kernel_size=(5,), stride=(1,), padding=(0, 2), padding_mode=replicate)\n",
              "  (conv2_pvy): Conv1d(16, 1, kernel_size=(5,), stride=(1,), padding=(0, 2), padding_mode=replicate)\n",
              "  (activation): ReLU()\n",
              "  (lstm): LSTM(8, 512, num_layers=2, batch_first=True, dropout=0.2)\n",
              "  (dense1): Linear(in_features=512, out_features=256, bias=True)\n",
              "  (dense2): Linear(in_features=256, out_features=120, bias=True)\n",
              ")"
            ]
          },
          "metadata": {},
          "execution_count": 9
        }
      ]
    },
    {
      "cell_type": "code",
      "source": [
        "num_epochs = 200\n",
        "learning_rate = 0.001\n",
        "\n",
        "#input_size = 4\n",
        "#hidden_size = 2\n",
        "num_layers = 2\n",
        "\n",
        "num_classes = 1\n",
        "\n",
        "#lstm = nn.LSTM(input_size=(19,4), hidden_size=128, num_layers=2, proj_size=(30,4))\n",
        "\n",
        "criterion = torch.nn.MSELoss().to(device)    # mean-squared error for regression\n",
        "#optimizer = torch.optim.Adam(lstm.parameters(), lr=learning_rate)\n",
        "optimizer = torch.optim.SGD(lstm.parameters(), lr=learning_rate)\n",
        "train_loss_overall = []\n",
        "val_loss_overall = []\n",
        "global_min = 99999999\n",
        "# Train the model\n",
        "for epoch in range(num_epochs):\n",
        "    for i_batch, sample_batch in enumerate(train_dataset):\n",
        "        trainX, trainY = sample_batch\n",
        "\n",
        "\n",
        "        #trainX = torch.reshape(trainX,(trainX.shape[0]*trainX.shape[1], trainX.shape[2], trainX.shape[3]))\n",
        "        trainX = trainX.float()\n",
        "\n",
        "        #trainY = torch.reshape(trainY,(trainY.shape[0]*trainY.shape[1], trainY.shape[2], trainY.shape[3]))\n",
        "        trainY = trainY.float()\n",
        "\n",
        "        xy = trainX[:,:,0:2]\n",
        "\n",
        "        start = xy[:,0:1,:]\n",
        "        start_repeat = start.repeat((1,19,1))\n",
        "        # align xy to 0,0 start\n",
        "        xy = xy-start_repeat\n",
        "        #rotate so the final orientation is pointing towards positive x axis\n",
        "        displacement = xy[:,18:19,:] - xy[:,0:1,:]\n",
        "        # tan = oppo/adj\n",
        "        angle = torch.atan2(displacement[:,:,1],displacement[:,:,0])\n",
        "        #angle = torch.squeeze(angle)\n",
        "\n",
        "\n",
        "        rotation_matrix = torch.cat((torch.hstack((torch.cos(angle),-torch.sin(angle)))[:,:,None],torch.hstack((torch.sin(angle),torch.cos(angle)))[:,:,None]),dim=2)\n",
        "\n",
        "        translated = torch.matmul(xy,rotation_matrix)\n",
        "        #print(translated.shape)\n",
        "\n",
        "\n",
        "\n",
        "\n",
        "        # preprocess data\n",
        "        px = translated[:,:,0]\n",
        "        px = px[:,None,:]\n",
        "\n",
        "        py = translated[:,:,1]\n",
        "        py = py[:,None,:]\n",
        "\n",
        "        vx = trainX[:,:,2]\n",
        "        vx = vx[:,None,:]\n",
        "\n",
        "        vy = trainX[:,:,3]\n",
        "        vy = vy[:,None,:]\n",
        "\n",
        "        #print(px.shape)\n",
        "        outputs = lstm([px,py,vx,vy])\n",
        "        optimizer.zero_grad()\n",
        "\n",
        "\n",
        "        #print(trainY.shape)\n",
        "        #print(trainY[:,:,0:1,:].shape)\n",
        "        # obtain the loss function\n",
        "        #mean_recover = torch.stack((mean_px[:,0],mean_py[:,0],mean_vx[:,0],mean_vy[:,0]))\n",
        "        #std_recover = torch.stack((std_px[:,0],std_py[:,0],std_vx[:,0],std_vy[:,0]))\n",
        "\n",
        "        #print(std_recover.shape)\n",
        "        #print(outputs.shape)\n",
        "        #outputs = torch.mul(outputs,std_recover.T) + mean_recover.T\n",
        "\n",
        "\n",
        "        outputs_xy = outputs[:,:,:2]\n",
        "        outputs_recover = torch.matmul(outputs_xy,-1.0*rotation_matrix)+start.repeat((1,30,1))\n",
        "\n",
        "        #outputs = torch.hstack((torch.squeeze(outputs_recover),outputs[:,2:4]))\n",
        "\n",
        "\n",
        "        #print(trainY.shape)\n",
        "        #loss = criterion(outputs, trainY[:,0,:])\n",
        "        loss = criterion(torch.squeeze(outputs_recover), trainY[:,:,:2])\n",
        "\n",
        "        loss.backward()\n",
        "\n",
        "        optimizer.step()\n",
        "        if i_batch %1000==0:\n",
        "            print(i_batch)\n",
        "    if epoch % 1 == 0:\n",
        "      print(\"Epoch: %d, training loss: %1.5f\" % (epoch, loss.item()))\n",
        "      total=0\n",
        "      with torch.no_grad():\n",
        "          mean_squared_error = nn.MSELoss().to(device)\n",
        "          for i_batch, sample_batch in enumerate(test_dataset):\n",
        "              testX, testY = sample_batch\n",
        "              testX = testX.float().to(device)\n",
        "              #print(testX.is_cuda)\n",
        "              testY = testY.float().to(device)\n",
        "              # preprocess data\n",
        "              xy = testX[:,:,0:2]\n",
        "\n",
        "              start = xy[:,0:1,:]\n",
        "              start_repeat = start.repeat((1,19,1))\n",
        "              # align xy to 0,0 start\n",
        "              xy = xy-start_repeat\n",
        "              #rotate so the final orientation is pointing towards positive x axis\n",
        "              displacement = xy[:,18:19,:] - xy[:,0:1,:]\n",
        "              # tan = oppo/adj\n",
        "              angle = torch.atan2(displacement[:,:,1],displacement[:,:,0])\n",
        "              #angle = torch.squeeze(angle)\n",
        "\n",
        "\n",
        "              rotation_matrix = torch.cat((torch.hstack((torch.cos(angle),-torch.sin(angle)))[:,:,None],torch.hstack((torch.sin(angle),torch.cos(angle)))[:,:,None]),dim=2)\n",
        "\n",
        "              translated = torch.matmul(xy,rotation_matrix)\n",
        "\n",
        "              px = translated[:,:,0]\n",
        "              px = px[:,None,:]\n",
        "\n",
        "              py = translated[:,:,1]\n",
        "              py = py[:,None,:]\n",
        "\n",
        "              vx = testX[:,:,2]\n",
        "              vx = vx[:,None,:]\n",
        "\n",
        "              vy = testX[:,:,3]\n",
        "              vy = vy[:,None,:]\n",
        "              # calculate outputs by running images through the network\n",
        "              outputs = lstm([px,py,vx,vy])\n",
        "\n",
        "              #std_recover = torch.stack((std_px[:,0],std_py[:,0],std_vx[:,0],std_vy[:,0]))\n",
        "              #outputs = torch.mul(outputs,std_recover.T) + mean_recover.T\n",
        "              outputs_xy = outputs[:,:,:2]\n",
        "              outputs_recover = torch.matmul(outputs_xy,-1.0*rotation_matrix)+start.repeat((1,30,1))\n",
        "\n",
        "              #outputs = torch.hstack((torch.squeeze(outputs_recover),outputs[:,2:4]))\n",
        "              #print(outputs.is_cuda)\n",
        "              #print(outputs.shape)\n",
        "              #mse = mean_squared_error(outputs,testY[:,0,:])\n",
        "              mse = mean_squared_error(outputs_recover,testY[:,:,:2])\n",
        "              #print(testY[:,:,0:1,:].shape)\n",
        "              #print(mse)\n",
        "              total += mse\n",
        "          print(\"Epoch: %d, val loss: %1.5f\" % (epoch, total/(i_batch+1)))\n",
        "    train_loss_overall.append(loss.item())\n",
        "    val_loss_overall.append(total/(i_batch+1))\n",
        "    if total/(i_batch+1) < global_min:\n",
        "      global_min = total/(i_batch+1)\n",
        "      torch.save(lstm.state_dict(), \"./weights_CNN4.w\")"
      ],
      "metadata": {
        "colab": {
          "base_uri": "https://localhost:8080/",
          "height": 1000
        },
        "id": "nEiwWY6PjY30",
        "outputId": "e0396867-58d8-4cd2-f32c-40b1f2fb27cc"
      },
      "execution_count": null,
      "outputs": [
        {
          "output_type": "stream",
          "name": "stdout",
          "text": [
            "0\n",
            "1000\n",
            "Epoch: 0, training loss: 70.09001\n",
            "Epoch: 0, val loss: 74.42181\n",
            "0\n",
            "1000\n",
            "Epoch: 1, training loss: 54.52803\n",
            "Epoch: 1, val loss: 49.19555\n",
            "0\n",
            "1000\n",
            "Epoch: 2, training loss: 33.64244\n",
            "Epoch: 2, val loss: 32.30909\n",
            "0\n",
            "1000\n",
            "Epoch: 3, training loss: 5.98168\n",
            "Epoch: 3, val loss: 9.32161\n",
            "0\n",
            "1000\n",
            "Epoch: 4, training loss: 5.79849\n",
            "Epoch: 4, val loss: 8.73672\n",
            "0\n",
            "1000\n",
            "Epoch: 5, training loss: 2.87450\n",
            "Epoch: 5, val loss: 6.58233\n",
            "0\n",
            "1000\n",
            "Epoch: 6, training loss: 3.77294\n",
            "Epoch: 6, val loss: 5.49670\n",
            "0\n",
            "1000\n",
            "Epoch: 7, training loss: 3.97154\n",
            "Epoch: 7, val loss: 6.05871\n",
            "0\n",
            "1000\n",
            "Epoch: 8, training loss: 2.74613\n",
            "Epoch: 8, val loss: 6.22543\n",
            "0\n",
            "1000\n",
            "Epoch: 9, training loss: 3.18183\n",
            "Epoch: 9, val loss: 5.56047\n",
            "0\n",
            "1000\n",
            "Epoch: 10, training loss: 3.03072\n",
            "Epoch: 10, val loss: 5.65461\n",
            "0\n",
            "1000\n",
            "Epoch: 11, training loss: 2.67165\n",
            "Epoch: 11, val loss: 5.43748\n",
            "0\n",
            "1000\n",
            "Epoch: 12, training loss: 2.62707\n",
            "Epoch: 12, val loss: 4.96822\n",
            "0\n",
            "1000\n",
            "Epoch: 13, training loss: 2.68478\n",
            "Epoch: 13, val loss: 5.03742\n",
            "0\n",
            "1000\n",
            "Epoch: 14, training loss: 2.51240\n",
            "Epoch: 14, val loss: 4.89097\n",
            "0\n",
            "1000\n",
            "Epoch: 15, training loss: 2.49126\n",
            "Epoch: 15, val loss: 4.87477\n",
            "0\n",
            "1000\n",
            "Epoch: 16, training loss: 2.53098\n",
            "Epoch: 16, val loss: 5.03679\n",
            "0\n",
            "1000\n",
            "Epoch: 17, training loss: 2.56659\n",
            "Epoch: 17, val loss: 4.91418\n",
            "0\n",
            "1000\n",
            "Epoch: 18, training loss: 2.56809\n",
            "Epoch: 18, val loss: 4.75529\n",
            "0\n",
            "1000\n",
            "Epoch: 19, training loss: 2.52769\n",
            "Epoch: 19, val loss: 4.73775\n",
            "0\n",
            "1000\n",
            "Epoch: 20, training loss: 2.47427\n",
            "Epoch: 20, val loss: 4.77744\n",
            "0\n",
            "1000\n",
            "Epoch: 21, training loss: 2.47800\n",
            "Epoch: 21, val loss: 4.66470\n",
            "0\n",
            "1000\n",
            "Epoch: 22, training loss: 2.39972\n",
            "Epoch: 22, val loss: 4.53082\n",
            "0\n",
            "1000\n",
            "Epoch: 23, training loss: 2.58407\n",
            "Epoch: 23, val loss: 4.50857\n",
            "0\n",
            "1000\n",
            "Epoch: 24, training loss: 2.30948\n",
            "Epoch: 24, val loss: 4.50961\n",
            "0\n",
            "1000\n",
            "Epoch: 25, training loss: 2.47304\n",
            "Epoch: 25, val loss: 4.54281\n",
            "0\n",
            "1000\n",
            "Epoch: 26, training loss: 2.40303\n",
            "Epoch: 26, val loss: 4.50907\n",
            "0\n",
            "1000\n",
            "Epoch: 27, training loss: 2.34811\n",
            "Epoch: 27, val loss: 4.44850\n",
            "0\n",
            "1000\n",
            "Epoch: 28, training loss: 2.25666\n",
            "Epoch: 28, val loss: 4.38333\n",
            "0\n",
            "1000\n",
            "Epoch: 29, training loss: 2.23724\n",
            "Epoch: 29, val loss: 4.35557\n",
            "0\n",
            "1000\n",
            "Epoch: 30, training loss: 2.25537\n",
            "Epoch: 30, val loss: 4.39075\n",
            "0\n",
            "1000\n",
            "Epoch: 31, training loss: 2.28795\n",
            "Epoch: 31, val loss: 4.32494\n",
            "0\n",
            "1000\n",
            "Epoch: 32, training loss: 2.22014\n",
            "Epoch: 32, val loss: 4.33510\n",
            "0\n",
            "1000\n",
            "Epoch: 33, training loss: 2.23733\n",
            "Epoch: 33, val loss: 4.26399\n",
            "0\n",
            "1000\n",
            "Epoch: 34, training loss: 2.15401\n",
            "Epoch: 34, val loss: 4.26728\n",
            "0\n",
            "1000\n",
            "Epoch: 35, training loss: 2.20934\n",
            "Epoch: 35, val loss: 4.30755\n",
            "0\n",
            "1000\n",
            "Epoch: 36, training loss: 2.08253\n",
            "Epoch: 36, val loss: 4.25040\n",
            "0\n",
            "1000\n",
            "Epoch: 37, training loss: 2.15450\n",
            "Epoch: 37, val loss: 4.25601\n",
            "0\n",
            "1000\n",
            "Epoch: 38, training loss: 2.12322\n",
            "Epoch: 38, val loss: 4.28045\n",
            "0\n",
            "1000\n",
            "Epoch: 39, training loss: 2.11523\n",
            "Epoch: 39, val loss: 4.27796\n",
            "0\n",
            "1000\n",
            "Epoch: 40, training loss: 2.06961\n",
            "Epoch: 40, val loss: 4.17901\n",
            "0\n",
            "1000\n",
            "Epoch: 41, training loss: 2.03548\n",
            "Epoch: 41, val loss: 4.23205\n",
            "0\n",
            "1000\n",
            "Epoch: 42, training loss: 2.16631\n",
            "Epoch: 42, val loss: 4.26402\n",
            "0\n",
            "1000\n",
            "Epoch: 43, training loss: 2.04803\n",
            "Epoch: 43, val loss: 4.25101\n",
            "0\n",
            "1000\n",
            "Epoch: 44, training loss: 2.03766\n",
            "Epoch: 44, val loss: 4.19082\n",
            "0\n"
          ]
        },
        {
          "output_type": "error",
          "ename": "KeyboardInterrupt",
          "evalue": "ignored",
          "traceback": [
            "\u001b[0;31m---------------------------------------------------------------------------\u001b[0m",
            "\u001b[0;31mKeyboardInterrupt\u001b[0m                         Traceback (most recent call last)",
            "\u001b[0;32m<ipython-input-104-bd9418c5a4f2>\u001b[0m in \u001b[0;36m<cell line: 19>\u001b[0;34m()\u001b[0m\n\u001b[1;32m     18\u001b[0m \u001b[0;31m# Train the model\u001b[0m\u001b[0;34m\u001b[0m\u001b[0;34m\u001b[0m\u001b[0m\n\u001b[1;32m     19\u001b[0m \u001b[0;32mfor\u001b[0m \u001b[0mepoch\u001b[0m \u001b[0;32min\u001b[0m \u001b[0mrange\u001b[0m\u001b[0;34m(\u001b[0m\u001b[0mnum_epochs\u001b[0m\u001b[0;34m)\u001b[0m\u001b[0;34m:\u001b[0m\u001b[0;34m\u001b[0m\u001b[0;34m\u001b[0m\u001b[0m\n\u001b[0;32m---> 20\u001b[0;31m     \u001b[0;32mfor\u001b[0m \u001b[0mi_batch\u001b[0m\u001b[0;34m,\u001b[0m \u001b[0msample_batch\u001b[0m \u001b[0;32min\u001b[0m \u001b[0menumerate\u001b[0m\u001b[0;34m(\u001b[0m\u001b[0mtrain_dataset\u001b[0m\u001b[0;34m)\u001b[0m\u001b[0;34m:\u001b[0m\u001b[0;34m\u001b[0m\u001b[0;34m\u001b[0m\u001b[0m\n\u001b[0m\u001b[1;32m     21\u001b[0m         \u001b[0mtrainX\u001b[0m\u001b[0;34m,\u001b[0m \u001b[0mtrainY\u001b[0m \u001b[0;34m=\u001b[0m \u001b[0msample_batch\u001b[0m\u001b[0;34m\u001b[0m\u001b[0;34m\u001b[0m\u001b[0m\n\u001b[1;32m     22\u001b[0m \u001b[0;34m\u001b[0m\u001b[0m\n",
            "\u001b[0;32m/usr/local/lib/python3.10/dist-packages/torch/utils/data/dataloader.py\u001b[0m in \u001b[0;36m__next__\u001b[0;34m(self)\u001b[0m\n\u001b[1;32m    631\u001b[0m                 \u001b[0;31m# TODO(https://github.com/pytorch/pytorch/issues/76750)\u001b[0m\u001b[0;34m\u001b[0m\u001b[0;34m\u001b[0m\u001b[0m\n\u001b[1;32m    632\u001b[0m                 \u001b[0mself\u001b[0m\u001b[0;34m.\u001b[0m\u001b[0m_reset\u001b[0m\u001b[0;34m(\u001b[0m\u001b[0;34m)\u001b[0m  \u001b[0;31m# type: ignore[call-arg]\u001b[0m\u001b[0;34m\u001b[0m\u001b[0;34m\u001b[0m\u001b[0m\n\u001b[0;32m--> 633\u001b[0;31m             \u001b[0mdata\u001b[0m \u001b[0;34m=\u001b[0m \u001b[0mself\u001b[0m\u001b[0;34m.\u001b[0m\u001b[0m_next_data\u001b[0m\u001b[0;34m(\u001b[0m\u001b[0;34m)\u001b[0m\u001b[0;34m\u001b[0m\u001b[0;34m\u001b[0m\u001b[0m\n\u001b[0m\u001b[1;32m    634\u001b[0m             \u001b[0mself\u001b[0m\u001b[0;34m.\u001b[0m\u001b[0m_num_yielded\u001b[0m \u001b[0;34m+=\u001b[0m \u001b[0;36m1\u001b[0m\u001b[0;34m\u001b[0m\u001b[0;34m\u001b[0m\u001b[0m\n\u001b[1;32m    635\u001b[0m             \u001b[0;32mif\u001b[0m \u001b[0mself\u001b[0m\u001b[0;34m.\u001b[0m\u001b[0m_dataset_kind\u001b[0m \u001b[0;34m==\u001b[0m \u001b[0m_DatasetKind\u001b[0m\u001b[0;34m.\u001b[0m\u001b[0mIterable\u001b[0m \u001b[0;32mand\u001b[0m\u001b[0;31m \u001b[0m\u001b[0;31m\\\u001b[0m\u001b[0;34m\u001b[0m\u001b[0;34m\u001b[0m\u001b[0m\n",
            "\u001b[0;32m/usr/local/lib/python3.10/dist-packages/torch/utils/data/dataloader.py\u001b[0m in \u001b[0;36m_next_data\u001b[0;34m(self)\u001b[0m\n\u001b[1;32m    675\u001b[0m     \u001b[0;32mdef\u001b[0m \u001b[0m_next_data\u001b[0m\u001b[0;34m(\u001b[0m\u001b[0mself\u001b[0m\u001b[0;34m)\u001b[0m\u001b[0;34m:\u001b[0m\u001b[0;34m\u001b[0m\u001b[0;34m\u001b[0m\u001b[0m\n\u001b[1;32m    676\u001b[0m         \u001b[0mindex\u001b[0m \u001b[0;34m=\u001b[0m \u001b[0mself\u001b[0m\u001b[0;34m.\u001b[0m\u001b[0m_next_index\u001b[0m\u001b[0;34m(\u001b[0m\u001b[0;34m)\u001b[0m  \u001b[0;31m# may raise StopIteration\u001b[0m\u001b[0;34m\u001b[0m\u001b[0;34m\u001b[0m\u001b[0m\n\u001b[0;32m--> 677\u001b[0;31m         \u001b[0mdata\u001b[0m \u001b[0;34m=\u001b[0m \u001b[0mself\u001b[0m\u001b[0;34m.\u001b[0m\u001b[0m_dataset_fetcher\u001b[0m\u001b[0;34m.\u001b[0m\u001b[0mfetch\u001b[0m\u001b[0;34m(\u001b[0m\u001b[0mindex\u001b[0m\u001b[0;34m)\u001b[0m  \u001b[0;31m# may raise StopIteration\u001b[0m\u001b[0;34m\u001b[0m\u001b[0;34m\u001b[0m\u001b[0m\n\u001b[0m\u001b[1;32m    678\u001b[0m         \u001b[0;32mif\u001b[0m \u001b[0mself\u001b[0m\u001b[0;34m.\u001b[0m\u001b[0m_pin_memory\u001b[0m\u001b[0;34m:\u001b[0m\u001b[0;34m\u001b[0m\u001b[0;34m\u001b[0m\u001b[0m\n\u001b[1;32m    679\u001b[0m             \u001b[0mdata\u001b[0m \u001b[0;34m=\u001b[0m \u001b[0m_utils\u001b[0m\u001b[0;34m.\u001b[0m\u001b[0mpin_memory\u001b[0m\u001b[0;34m.\u001b[0m\u001b[0mpin_memory\u001b[0m\u001b[0;34m(\u001b[0m\u001b[0mdata\u001b[0m\u001b[0;34m,\u001b[0m \u001b[0mself\u001b[0m\u001b[0;34m.\u001b[0m\u001b[0m_pin_memory_device\u001b[0m\u001b[0;34m)\u001b[0m\u001b[0;34m\u001b[0m\u001b[0;34m\u001b[0m\u001b[0m\n",
            "\u001b[0;32m/usr/local/lib/python3.10/dist-packages/torch/utils/data/_utils/fetch.py\u001b[0m in \u001b[0;36mfetch\u001b[0;34m(self, possibly_batched_index)\u001b[0m\n\u001b[1;32m     52\u001b[0m         \u001b[0;32melse\u001b[0m\u001b[0;34m:\u001b[0m\u001b[0;34m\u001b[0m\u001b[0;34m\u001b[0m\u001b[0m\n\u001b[1;32m     53\u001b[0m             \u001b[0mdata\u001b[0m \u001b[0;34m=\u001b[0m \u001b[0mself\u001b[0m\u001b[0;34m.\u001b[0m\u001b[0mdataset\u001b[0m\u001b[0;34m[\u001b[0m\u001b[0mpossibly_batched_index\u001b[0m\u001b[0;34m]\u001b[0m\u001b[0;34m\u001b[0m\u001b[0;34m\u001b[0m\u001b[0m\n\u001b[0;32m---> 54\u001b[0;31m         \u001b[0;32mreturn\u001b[0m \u001b[0mself\u001b[0m\u001b[0;34m.\u001b[0m\u001b[0mcollate_fn\u001b[0m\u001b[0;34m(\u001b[0m\u001b[0mdata\u001b[0m\u001b[0;34m)\u001b[0m\u001b[0;34m\u001b[0m\u001b[0;34m\u001b[0m\u001b[0m\n\u001b[0m",
            "\u001b[0;32m<ipython-input-77-dfb4d6552e7c>\u001b[0m in \u001b[0;36mmy_collate\u001b[0;34m(batch)\u001b[0m\n\u001b[1;32m     21\u001b[0m         '''\n\u001b[1;32m     22\u001b[0m     \u001b[0minp\u001b[0m \u001b[0;34m=\u001b[0m \u001b[0mtorch\u001b[0m\u001b[0;34m.\u001b[0m\u001b[0mLongTensor\u001b[0m\u001b[0;34m(\u001b[0m\u001b[0mvalid_x\u001b[0m\u001b[0;34m)\u001b[0m\u001b[0;34m.\u001b[0m\u001b[0mto\u001b[0m\u001b[0;34m(\u001b[0m\u001b[0mdevice\u001b[0m\u001b[0;34m)\u001b[0m\u001b[0;34m\u001b[0m\u001b[0;34m\u001b[0m\u001b[0m\n\u001b[0;32m---> 23\u001b[0;31m     \u001b[0mout\u001b[0m \u001b[0;34m=\u001b[0m \u001b[0mtorch\u001b[0m\u001b[0;34m.\u001b[0m\u001b[0mLongTensor\u001b[0m\u001b[0;34m(\u001b[0m\u001b[0mvalid_y\u001b[0m\u001b[0;34m)\u001b[0m\u001b[0;34m.\u001b[0m\u001b[0mto\u001b[0m\u001b[0;34m(\u001b[0m\u001b[0mdevice\u001b[0m\u001b[0;34m)\u001b[0m\u001b[0;34m\u001b[0m\u001b[0;34m\u001b[0m\u001b[0m\n\u001b[0m\u001b[1;32m     24\u001b[0m     \u001b[0;32mreturn\u001b[0m \u001b[0;34m[\u001b[0m\u001b[0minp\u001b[0m\u001b[0;34m,\u001b[0m \u001b[0mout\u001b[0m\u001b[0;34m]\u001b[0m\u001b[0;34m\u001b[0m\u001b[0;34m\u001b[0m\u001b[0m\n\u001b[1;32m     25\u001b[0m \u001b[0;34m\u001b[0m\u001b[0m\n",
            "\u001b[0;31mKeyboardInterrupt\u001b[0m: "
          ]
        }
      ]
    },
    {
      "cell_type": "code",
      "source": [
        "\n",
        "PATH = \"modelv4.pt\"\n",
        "\n",
        "\n",
        "torch.save({\n",
        "            'model_state_dict': lstm.state_dict(),\n",
        "            'optimizer_state_dict': optimizer.state_dict(),\n",
        "            }, PATH)"
      ],
      "metadata": {
        "id": "OcKEijgi8dbO"
      },
      "execution_count": null,
      "outputs": []
    },
    {
      "cell_type": "code",
      "source": [
        "!cp ./modelv4.pt ./drive/MyDrive/CSE251B/"
      ],
      "metadata": {
        "id": "il1FvE8387jr"
      },
      "execution_count": null,
      "outputs": []
    },
    {
      "cell_type": "code",
      "source": [
        "'''\n",
        "model = Net()\n",
        "optimizer = optim.SGD(model.parameters(), lr=0.001, momentum=0.9)\n",
        "\n",
        "checkpoint = torch.load(PATH)\n",
        "lstm.load_state_dict(checkpoint['model_state_dict'])\n",
        "optimizer.load_state_dict(checkpoint['optimizer_state_dict'])\n",
        "\n",
        "\n",
        "model.eval()\n",
        "# - or -\n",
        "model.train()\n",
        "'''"
      ],
      "metadata": {
        "id": "PZrKjQ3-8s3l"
      },
      "execution_count": null,
      "outputs": []
    },
    {
      "cell_type": "code",
      "source": [
        "model = CNNClassifier()\n",
        "model.to(device)\n",
        "model.load_state_dict(torch.load(\"./weights_CNN4.w\"))\n",
        "model.eval()"
      ],
      "metadata": {
        "colab": {
          "base_uri": "https://localhost:8080/"
        },
        "id": "WH8wRXQmj2Fc",
        "outputId": "d299f058-bea4-4a9e-8020-69d5d52034fd"
      },
      "execution_count": null,
      "outputs": [
        {
          "output_type": "execute_result",
          "data": {
            "text/plain": [
              "CNNClassifier(\n",
              "  (conv1_px): Conv1d(1, 16, kernel_size=(5,), stride=(1,), padding=(0, 2), padding_mode=replicate)\n",
              "  (conv1_py): Conv1d(1, 16, kernel_size=(5,), stride=(1,), padding=(0, 2), padding_mode=replicate)\n",
              "  (conv1_vx): Conv1d(1, 16, kernel_size=(5,), stride=(1,), padding=(0, 2), padding_mode=replicate)\n",
              "  (conv1_vy): Conv1d(1, 16, kernel_size=(5,), stride=(1,), padding=(0, 2), padding_mode=replicate)\n",
              "  (conv3_px): Conv1d(16, 1, kernel_size=(5,), stride=(1,), padding=(0, 2), padding_mode=replicate)\n",
              "  (conv3_py): Conv1d(16, 1, kernel_size=(5,), stride=(1,), padding=(0, 2), padding_mode=replicate)\n",
              "  (conv3_vx): Conv1d(16, 1, kernel_size=(5,), stride=(1,), padding=(0, 2), padding_mode=replicate)\n",
              "  (conv3_vy): Conv1d(16, 1, kernel_size=(5,), stride=(1,), padding=(0, 2), padding_mode=replicate)\n",
              "  (conv1_pxy): Conv1d(2, 16, kernel_size=(5,), stride=(1,), padding=(0, 2), padding_mode=replicate)\n",
              "  (conv1_vxy): Conv1d(2, 16, kernel_size=(5,), stride=(1,), padding=(0, 2), padding_mode=replicate)\n",
              "  (conv1_pvx): Conv1d(2, 16, kernel_size=(5,), stride=(1,), padding=(0, 2), padding_mode=replicate)\n",
              "  (conv1_pvy): Conv1d(2, 16, kernel_size=(5,), stride=(1,), padding=(0, 2), padding_mode=replicate)\n",
              "  (conv2_pxy): Conv1d(16, 1, kernel_size=(5,), stride=(1,), padding=(0, 2), padding_mode=replicate)\n",
              "  (conv2_vxy): Conv1d(16, 1, kernel_size=(5,), stride=(1,), padding=(0, 2), padding_mode=replicate)\n",
              "  (conv2_pvx): Conv1d(16, 1, kernel_size=(5,), stride=(1,), padding=(0, 2), padding_mode=replicate)\n",
              "  (conv2_pvy): Conv1d(16, 1, kernel_size=(5,), stride=(1,), padding=(0, 2), padding_mode=replicate)\n",
              "  (activation): ReLU()\n",
              "  (lstm): LSTM(8, 512, num_layers=2, batch_first=True, dropout=0.2)\n",
              "  (dense1): Linear(in_features=512, out_features=256, bias=True)\n",
              "  (dense2): Linear(in_features=256, out_features=120, bias=True)\n",
              ")"
            ]
          },
          "metadata": {},
          "execution_count": 10
        }
      ]
    },
    {
      "cell_type": "code",
      "source": [
        "import matplotlib.pyplot as plt\n",
        "\n",
        "plt.plot(train_loss_overall)\n",
        "plt.plot([i.detach().cpu().numpy() for i in val_loss_overall])\n",
        "plt.legend(['training','validation'])\n",
        "plt.show()"
      ],
      "metadata": {
        "colab": {
          "base_uri": "https://localhost:8080/",
          "height": 430
        },
        "id": "doKuRT9x_RyF",
        "outputId": "041eefb0-f48e-4293-ea0f-a4c2ce819c0b"
      },
      "execution_count": null,
      "outputs": [
        {
          "output_type": "display_data",
          "data": {
            "text/plain": [
              "<Figure size 640x480 with 1 Axes>"
            ],
            "image/png": "[encoded data removed]"
          },
          "metadata": {}
        }
      ]
    },
    {
      "cell_type": "code",
      "source": [
        "X = []\n",
        "y = []\n",
        "for k in range(10000):\n",
        "    i = test_sub[k]\n",
        "    mask = i['car_mask']\n",
        "    inp = numpy.dstack([i['p_in'], i['v_in']])\n",
        "    out = numpy.dstack([i['p_out'], i['v_out']])\n",
        "    #print(out.shape)\n",
        "    for j in range(len(mask)):\n",
        "      if mask[j][0]==1:\n",
        "        X.append(inp[j])\n",
        "    #X.append(inp)\n",
        "        y.append(out[j])\n",
        "    #y.append(out)\n",
        "    #break\n",
        "\n",
        "X = np.stack(X,axis=0)\n",
        "print(X[:8].shape)\n",
        "y = np.stack(y,axis=0)\n",
        "print(y[:8].shape)"
      ],
      "metadata": {
        "colab": {
          "base_uri": "https://localhost:8080/"
        },
        "id": "1HeSUcp2F-l0",
        "outputId": "b461393e-bc8f-4227-fbff-5fe325ef0c9c"
      },
      "execution_count": null,
      "outputs": [
        {
          "output_type": "stream",
          "name": "stdout",
          "text": [
            "(8, 19, 4)\n",
            "(8, 30, 4)\n"
          ]
        }
      ]
    },
    {
      "cell_type": "code",
      "source": [
        "#agent_id=1\n",
        "def plot_prediction(ax, inp, out, pred):\n",
        "    \"\"\"visualize the trajectory for a batch of samples with a random agent\"\"\"\n",
        "    #inp, out = sample_batch\n",
        "    #batch_sz = inp.size(0)\n",
        "    #agent_sz = inp.size(1)\n",
        "    ax.scatter(inp[:,:,0], inp[:,:,1], label='in')\n",
        "    ax.scatter(out[:,:,0], out[:,:,1], label='ground truth')\n",
        "    ax.scatter(pred[:,:,0], pred[:,:,1], label='pred')\n",
        "    ax.legend()\n",
        "\n",
        "num_samples = 4\n",
        "\n",
        "fig, ax = plt.subplots(num_samples, 1, figsize=(10,10))\n",
        "sample_idx = np.random.permutation(len(test_sub))\n",
        "\n",
        "for ax_i, s_i in enumerate(sample_idx[:num_samples]):\n",
        "  inp = X[s_i:s_i+1]\n",
        "  inp_t = torch.Tensor(inp).to(device)\n",
        "  out = y[s_i:s_i+1]\n",
        "  out_t = torch.Tensor(out).to(device)\n",
        "\n",
        "  xy = X[s_i:s_i+1,:,0:2]\n",
        "\n",
        "  # align xy to 0,0 start\n",
        "  start = xy[:1,0:1,:]\n",
        "  xy_t = torch.Tensor(xy-start).to(device)\n",
        "\n",
        "  #rotate so the final orientation is pointing towards positive x axis\n",
        "  displacement = xy_t[:,18:19,:] - xy_t[:,0:1,:]\n",
        "  # tan = oppo/adj\n",
        "  angle = torch.atan2(displacement[:,:,1],displacement[:,:,0]).to(device)\n",
        "\n",
        "  rotation_matrix = torch.cat((torch.hstack((torch.cos(angle),-torch.sin(angle)))[:,:,None],torch.hstack((torch.sin(angle),torch.cos(angle)))[:,:,None]),dim=2).to(device)\n",
        "\n",
        "  translated = torch.matmul(xy_t,rotation_matrix).to(device)\n",
        "\n",
        "  # preprocess data\n",
        "  px = translated[:,:,0]\n",
        "  px = px[:,None,:]\n",
        "\n",
        "  py = translated[:,:,1]\n",
        "  py = py[:,None,:]\n",
        "\n",
        "  vx = inp_t[:,:,2]\n",
        "  vx = vx[:,None,:]\n",
        "\n",
        "  vy = inp_t[:,:,3]\n",
        "  vy = vy[:,None,:]\n",
        "\n",
        "  # # preprocess data\n",
        "  # px = X[:8,:,0]\n",
        "  # px = px[:,None,:]\n",
        "\n",
        "  # py = X[:8,:,1]\n",
        "  # py = py[:,None,:]\n",
        "\n",
        "  # vx = X[:8,:,2]\n",
        "  # vx = vx[:,None,:]\n",
        "\n",
        "  # vy = X[:8,:,3]\n",
        "  # vy = vy[:,None,:]\n",
        "\n",
        "  #testX = my_collate_test([data_test[i]])\n",
        "  #id = np.where(data_test[i]['track_id']==data_test[i]['agent_id'])[0][0]\n",
        "  #data_to_csv = []\n",
        "  # for j in range(30):\n",
        "  #testX = testX.float().to(device)\n",
        "  #print(testX.shape)\n",
        "    #print(all_data.shape)\n",
        "  pred = model([px, py, vx, vy])\n",
        "\n",
        "  pred_xy = pred[:,:,:2]\n",
        "  pred_recover = torch.matmul(pred_xy,-1.0*rotation_matrix).cpu().detach().numpy()+start\n",
        "\n",
        "  # all_data[:,:,:,19:] = outputs\n",
        "  # pred = all_data[:,19:,:].detach().cpu().numpy()\n",
        "  \"\"\"TODO:\n",
        "    Deep learning model\n",
        "    training routine\n",
        "  \"\"\"\n",
        "  #print(sample_batch[0].shape)\n",
        "  plot_prediction(ax[ax_i], inp, out, pred_recover)\n",
        "\n",
        "plt.show()\n"
      ],
      "metadata": {
        "colab": {
          "base_uri": "https://localhost:8080/",
          "height": 830
        },
        "id": "YvV0rd5GGET5",
        "outputId": "7e096387-3e4a-4d7a-9304-0c8e0c61e0da"
      },
      "execution_count": null,
      "outputs": [
        {
          "output_type": "display_data",
          "data": {
            "text/plain": [
              "<Figure size 1000x1000 with 4 Axes>"
            ],
            "image/png": "[encoded data removed]"
          },
          "metadata": {}
        }
      ]
    },
    {
      "cell_type": "code",
      "source": [
        "num_params = sum(p.numel() for p in model.parameters())\n",
        "print(num_params)"
      ],
      "metadata": {
        "id": "18UIlYAnAOmY",
        "outputId": "b83e425f-4f1c-4d42-989b-95f2b0bbffa2",
        "colab": {
          "base_uri": "https://localhost:8080/"
        }
      },
      "execution_count": null,
      "outputs": [
        {
          "output_type": "stream",
          "name": "stdout",
          "text": [
            "3334208\n"
          ]
        }
      ]
    },
    {
      "cell_type": "markdown",
      "source": [
        "## prediction"
      ],
      "metadata": {
        "id": "3GnNIDbiTLy0"
      }
    },
    {
      "cell_type": "code",
      "source": [
        "data_test  = ArgoverseDataset(data_path='val_in/val_in')\n"
      ],
      "metadata": {
        "id": "eUiskVsaTNAb"
      },
      "execution_count": null,
      "outputs": []
    },
    {
      "cell_type": "code",
      "source": [
        "np.where(data_test[0]['track_id']==data_test[0]['agent_id'])[0][0]"
      ],
      "metadata": {
        "colab": {
          "base_uri": "https://localhost:8080/"
        },
        "id": "Bcc_y1iFgfGA",
        "outputId": "546ab659-a222-4d25-8627-c12b87c39ffc"
      },
      "execution_count": null,
      "outputs": [
        {
          "output_type": "execute_result",
          "data": {
            "text/plain": [
              "3"
            ]
          },
          "metadata": {},
          "execution_count": 109
        }
      ]
    },
    {
      "cell_type": "code",
      "source": [
        "def my_collate_test(scene):\n",
        "    \"\"\" collate lists of samples into batches, create [ batch_sz x agent_sz x seq_len x feature] \"\"\"\n",
        "    inp = numpy.dstack([scene['p_in'], scene['v_in']])\n",
        "    #out = [numpy.dstack([scene['p_out'], scene['v_out']]) for scene in batch]\n",
        "\n",
        "    inp = torch.LongTensor(inp).to(device)\n",
        "    #out = torch.LongTensor(out).to(device)\n",
        "    return inp"
      ],
      "metadata": {
        "id": "tqFV1BuzT4if"
      },
      "execution_count": null,
      "outputs": []
    },
    {
      "cell_type": "code",
      "source": [
        "import csv\n",
        "import copy"
      ],
      "metadata": {
        "id": "pxZ5NP1KVEIi"
      },
      "execution_count": null,
      "outputs": []
    },
    {
      "cell_type": "markdown",
      "source": [
        "## v4 out"
      ],
      "metadata": {
        "id": "Bqb8pR6gpZ68"
      }
    },
    {
      "cell_type": "code",
      "source": [
        "\n",
        "f1 = open('./sample_submission.csv', newline='')\n",
        "f = open('./sample_submission1.csv', 'w')\n",
        "reader = csv.reader(f1)\n",
        "writer = csv.writer(f)\n",
        "row1 = next(reader)  # gets the first line\n",
        "writer.writerow(row1)\n",
        "f1.close()\n",
        "\n",
        "\n",
        "\n",
        "\n",
        "with torch.no_grad():\n",
        "  for i in range(len(data_test)):\n",
        "    all_data = torch.zeros([60,19+30,4],dtype=torch.float).to(device)\n",
        "    all_data[:,:19,:] = my_collate_test(data_test[i])\n",
        "    assert all_data.shape == (60,19+30,4)\n",
        "    #testX = my_collate_test([data_test[i]])\n",
        "    id = np.where(data_test[i]['track_id']==data_test[i]['agent_id'])[0][0]\n",
        "    all_data = all_data[id:id+1]\n",
        "    assert all_data.shape == (1,19+30,4)\n",
        "    data_to_csv = []\n",
        "    #for j in range(30):\n",
        "    #testX = testX.float().to(device)\n",
        "    #print(testX.shape)\n",
        "\n",
        "    testX = all_data[0:1,0:19,:]\n",
        "    #print(testX.is_cuda)\n",
        "    testY = testY.float().to(device)\n",
        "    # preprocess data\n",
        "    xy = testX[:,:,0:2]\n",
        "\n",
        "    start = xy[:,0:1,:]\n",
        "    start_repeat = start.repeat((1,19,1))\n",
        "    # align xy to 0,0 start\n",
        "    xy = xy-start_repeat\n",
        "    #rotate so the final orientation is pointing towards positive x axis\n",
        "    displacement = xy[:,18:19,:] - xy[:,0:1,:]\n",
        "    # tan = oppo/adj\n",
        "    angle = torch.atan2(displacement[:,:,1],displacement[:,:,0])\n",
        "    #angle = torch.squeeze(angle)\n",
        "\n",
        "\n",
        "    rotation_matrix = torch.cat((torch.hstack((torch.cos(angle),-torch.sin(angle)))[:,:,None],torch.hstack((torch.sin(angle),torch.cos(angle)))[:,:,None]),dim=2)\n",
        "\n",
        "    translated = torch.matmul(xy,rotation_matrix)\n",
        "\n",
        "    px = translated[:,:,0]\n",
        "    px = px[:,None,:]\n",
        "\n",
        "    py = translated[:,:,1]\n",
        "    py = py[:,None,:]\n",
        "\n",
        "    vx = testX[:,:,2]\n",
        "    vx = vx[:,None,:]\n",
        "\n",
        "    vy = testX[:,:,3]\n",
        "    vy = vy[:,None,:]\n",
        "    # calculate outputs by running images through the network\n",
        "    outputs = lstm([px,py,vx,vy])\n",
        "    outputs_xy = outputs[:,:,:2]\n",
        "    outputs_recover = torch.matmul(outputs_xy,-1.0*rotation_matrix)+start.repeat((1,30,1))\n",
        "\n",
        "        #outputs = torch.hstack((torch.squeeze(outputs_recover)[None,:],outputs[:,2:4]))\n",
        "      #print(outputs.shape)\n",
        "      #all_data[0,j+19:j+20,:]=outputs[0,:]\n",
        "      #outputs = torch.squeeze(outputs[0,:2])\n",
        "      #print(outputs.shape)\n",
        "    for j in range(30):\n",
        "      data_to_csv.append(float(outputs_recover[0,j,0].cpu().numpy()))\n",
        "      data_to_csv.append(float(outputs_recover[0,j,1].cpu().numpy()))\n",
        "      #break\n",
        "      #print(outputs.shape)\n",
        "    #row = [data_test[i]['scene_idx']]+[(float(outputs[i,0].cpu().numpy()),float(outputs[i,1].cpu().numpy())) for i in range(len(outputs))]\n",
        "    # open the file in the write mode\n",
        "    # write a row to the csv file\n",
        "    assert len(data_to_csv)==60\n",
        "    row = [data_test[i]['scene_idx']]+data_to_csv\n",
        "    writer.writerow(row)\n",
        "    #break\n",
        "# close the file\n",
        "f.close()"
      ],
      "metadata": {
        "id": "Besdt0VXpYKW"
      },
      "execution_count": null,
      "outputs": []
    },
    {
      "cell_type": "markdown",
      "source": [
        "## saving"
      ],
      "metadata": {
        "id": "YcmI7lM7kYT8"
      }
    },
    {
      "cell_type": "code",
      "source": [
        "!cp ./weights_CNN4.w ./drive/MyDrive/CSE251B/"
      ],
      "metadata": {
        "id": "QGk3QfpXoqn3"
      },
      "execution_count": null,
      "outputs": []
    },
    {
      "cell_type": "code",
      "source": [
        "!mv ./weights_CNN.w ./weights_CNNv2.w\n",
        "!cp ./weights_CNNv2.w ./drive/MyDrive/CSE251B/"
      ],
      "metadata": {
        "id": "j_ViuEAXfrqt"
      },
      "execution_count": null,
      "outputs": []
    },
    {
      "cell_type": "code",
      "source": [
        "! cp ./sample_submission1.csv ./drive/MyDrive/CSE251B/"
      ],
      "metadata": {
        "id": "BVYS6KBpf44p"
      },
      "execution_count": null,
      "outputs": []
    }
  ]
}